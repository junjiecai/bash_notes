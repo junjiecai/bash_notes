{
 "cells": [
  {
   "cell_type": "markdown",
   "metadata": {},
   "source": [
    "Large parts of the linux operating system and its applications are written in bash. \n",
    "\n",
    "This is notes for the basic parts in the bash tutorial [Learning Path: Bash Scripting](https://www.safaribooksonline.com/library/view/learning-path-bash/9780134656045/)\n",
    "\n",
    "You will find the description of this notes brief because I put a lot of introduction in the comments in the code examples and many times the code examples are self-explanatory enough. So don't forget take a look with the code examples and toy with them.\n",
    "\n",
    "Also we test the bash code written in the script files but remember, all of the codes can be typed into the interactive bash shell and executed."
   ]
  },
  {
   "cell_type": "markdown",
   "metadata": {},
   "source": [
    "# Shebang line\n",
    "*Script* is a simple program that doesn't have to be compiled. The first line of a script is always *shebang line*, determing the interpreter path for the script.\n",
    "\n",
    "Shebang line starts with ```#! ``` and the path of the interpreter. Since we are talking about bash, the shebang line is \n",
    "```#! /bin/bash```\n",
    "\n",
    "You can use ```which bash``` to find the path of the bash interpreter"
   ]
  },
  {
   "cell_type": "markdown",
   "metadata": {
    "ExecuteTime": {
     "end_time": "2017-06-14T07:27:23.183459Z",
     "start_time": "2017-06-14T07:27:23.173418Z"
    }
   },
   "source": [
    "# run script\n",
    "\n",
    "There are three ways to run a script. Fisrt, use ```run_script/setup``` to setup the experiment, you can open the script to see what it does.\n",
    "\n",
    "## bash script_pathscript_path\n",
    "Use ```bash script_path``` to execute a command.\n",
    "\n",
    "**Experiment:**\n",
    "Use ```bash script_path``` to run\n",
    "* ```run_script/test```\n",
    "* ```run_script/test_1```\n",
    "* ```run_script/test_2```\n",
    "* ```run_script/test_3```\n",
    "* ```run_script/test_4.sh```\n",
    "* ```run_script/test_5```\n",
    "\n",
    "You will see every scripts work fine.\n",
    "\n",
    "## ./script_path\n",
    "Use ```./script_path``` to run commands. With this method, script files must be granted with excecution permission. \n",
    "\n",
    "**Experiment:**\n",
    "\n",
    "* ```run_script/test```\n",
    "* ```run_script/test_1```\n",
    "* ```run_script/test_2```\n",
    "* ```run_script/test_3```\n",
    "* ```run_script/test_4.sh```\n",
    "* ```run_script/test_5```\n",
    "\n",
    "You will see ```run_script/test_2``` fails to execute because ```run_script/setup``` didn't grant it with execution permission.\n",
    "\n",
    "## Put script into \\$PATH\n",
    "Another may to execute the commands is to put the script files into some folder under $PATH, for example ```/usr/local/sbin/```. Then simply call the commands by their filenames. They also need be granted with execution permission.\n",
    "\n",
    "**Experiment:**\n",
    "\n",
    "Try ```echo $PATH``` to see which folders are under %PATH.\n",
    "\n",
    "\n",
    "After a script is put into $PATH, is can be located by ```which filename```\n",
    "**Experiment:**\n",
    "\n",
    "Try the following command and check the result\n",
    "* ```which test```\n",
    "* ```which test_1```\n",
    "* ```which test_2```\n",
    "* ```which test_3```\n",
    "* ```which test_4.sh```\n",
    "* ```which test_5```\n",
    "\n",
    "```which test_5``` returns nothing because ```test_5``` is not put into $PATH\n",
    "\n",
    "\n",
    "**Experiment:**\n",
    "\n",
    "Try type the filename in shell and check the result\n",
    "\n",
    "* ```test```\n",
    "* ```test_1```\n",
    "* ```test_2```\n",
    "* ```test_3```\n",
    "* ```test_4.sh```\n",
    "* ```test_5```\n",
    "\n",
    "```test_2``` failed because it didn't be granted with execution permission.\n",
    "\n",
    "```test_5``` failed because it didn't be put into ```/usr/local/sbin/``\n",
    "\n",
    "But why ```test``` does nothing? See next section\n",
    "\n",
    "## Internal Command vs External Command\n",
    "Bash shell has a set of builtin commands which are called **Internal Commands**. Command defined by scripts are called **External commands**.\n",
    "\n",
    "When calling a command using the last manner above, an internal command take precedence over an external command if their have same name.\n",
    "\n",
    " ```test``` is one of internal command so when calling ```test```, the internal command take effect and the ```test``` defined by our script has no chance to be executed.\n",
    " \n",
    " You can use ```help``` to get a list of internal commands or use ```type command``` to check whether a command is an internal command.\n",
    " \n",
    " ## Summary\n",
    " \n",
    " |Script|With execution permission|Under \\$PATH|Shadowed by internal command|Run by bash filepath|Run by \\./filepath|Run by filename|\n",
    " |---|---|---|---|---|---|---|\n",
    " |test|*|*|*|*|*||\n",
    " |test_1|*|*||*|*|*|\n",
    " |test_2||*||*|||\n",
    " |test_3|*|*||*|*|*|\n",
    " |test_4.sh|*|*||*|*|*|\n",
    " |test_5|*|||*|*||\n",
    " \n",
    " "
   ]
  },
  {
   "cell_type": "markdown",
   "metadata": {
    "ExecuteTime": {
     "end_time": "2017-06-07T19:14:41.456367Z",
     "start_time": "2017-06-07T19:14:41.452361Z"
    }
   },
   "source": [
    "# exit status\n",
    "After each command is executed, it returns a exit status. Successul command returns a 0 and unsucessful command returns a non-zero status which can usually be interpreted as an error code.\n",
    "\n",
    "**Experiment:**\n",
    "\n",
    "You can use ```$?``` to catch the exit status of the last command.\n",
    "\n",
    "* Read and run ```bash exit_stauts/successful``` and use ```echo $?```to check the exit status\n",
    "* Read and run ```bash exit_stauts/unsuccessful_1``` and use ```echo $?```to check the exit status\n",
    "\n",
    "\n",
    "**Experiment:**\n",
    "\n",
    "You can use ```exit``` to overwrite the exit status of the script.\n",
    "\n",
    "* Read and run ```bash exit_stauts/unsuccessful_2``` and use ```echo $?```to check the exit status\n",
    "\n",
    "**Experiment:**  \n",
    "\n",
    "Unlike most programing language, error in one command does't break the script and all the following commands still have chance to be executed.\n",
    "\n",
    "Read and run ```bash exit_stauts/unsuccessful_3```"
   ]
  },
  {
   "cell_type": "markdown",
   "metadata": {
    "collapsed": true
   },
   "source": [
    "# Variables"
   ]
  },
  {
   "cell_type": "markdown",
   "metadata": {},
   "source": [
    "A label that is stored in memory and contains a specfic value. In convention, variables are defined using UPPER case. \n",
    "\n",
    "## Set and use variable\n",
    "Use ```VAR=value``` to set variable but use ```$VAR``` to use variable later. \n",
    "\n",
    "**Experiment:**\n",
    "\n",
    "Read and run ```set_and_run/set and run``` and analyze the result\n",
    "\n",
    "## Sepical variables\n",
    "\n",
    "**Experiment:**\n",
    "Arguments after command will be stored in some special variables\n",
    "* ```$0``` is the script filename\n",
    "* The first, second argument value will be stored in ```$1```, ```$2```etc. However, beginning with the 10th argument, use ```${mn}``` to get the variable, not ```$mn```. For example, ```${10}``` for the 10th argument, not ```$10```\n",
    "*  ```$@``` is a array storing all the arguments\n",
    "*  ```$*``` is a single string with all the arguments\n",
    "*  ```$#``` is count number of the arguments\n",
    "* Those special variables are read-only"
   ]
  },
  {
   "cell_type": "code",
   "execution_count": null,
   "metadata": {
    "collapsed": true
   },
   "outputs": [],
   "source": []
  },
  {
   "cell_type": "markdown",
   "metadata": {},
   "source": [
    "variable defined in shell cannot be recognized in sub shell unless use ```export``` command"
   ]
  },
  {
   "cell_type": "markdown",
   "metadata": {},
   "source": [
    "to to sub shell ```bash```\n",
    "\n",
    "\n",
    "exit current shell ```exit```"
   ]
  },
  {
   "cell_type": "markdown",
   "metadata": {},
   "source": [
    "variable defined in terminal is gone after you close the terminal "
   ]
  },
  {
   "cell_type": "code",
   "execution_count": 36,
   "metadata": {
    "ExecuteTime": {
     "end_time": "2017-06-08T20:04:32.814653Z",
     "start_time": "2017-06-08T20:04:32.598256Z"
    }
   },
   "outputs": [
    {
     "name": "stdout",
     "output_type": "stream",
     "text": [
      "/bin/sh: 1: COLOR: not found\n",
      "\n"
     ]
    }
   ],
   "source": [
    "! COLOR = blue\n",
    "! echo $COLOR"
   ]
  },
  {
   "cell_type": "markdown",
   "metadata": {},
   "source": [
    "Receive variable by user input\n",
    "\n",
    "```read```"
   ]
  },
  {
   "cell_type": "markdown",
   "metadata": {},
   "source": [
    "use bash +x to get script information"
   ]
  },
  {
   "cell_type": "markdown",
   "metadata": {},
   "source": [
    "There is no way to make variable in parent shell"
   ]
  },
  {
   "cell_type": "markdown",
   "metadata": {},
   "source": [
    "# Variables and Subshells"
   ]
  },
  {
   "cell_type": "markdown",
   "metadata": {},
   "source": [
    "variable is effective only in the shell where it is defined.\n",
    "\n",
    "use ```export``` to make is available in subshells"
   ]
  },
  {
   "cell_type": "markdown",
   "metadata": {},
   "source": [
    "# autoloaded variables\n",
    "* /etc/profile, for login shell\n",
    "* /etc/bashrc, for subshell\n",
    "* ~/.bash_profile, for user specific version"
   ]
  },
  {
   "cell_type": "markdown",
   "metadata": {
    "collapsed": true
   },
   "source": [
    "# Sourcing\n",
    "* The content of one script can be included in another script.\n",
    "* use  ```source``` command or ```.``` command to source scripts\n",
    "* Do not use exit at the end of a script that needs to be sourced"
   ]
  },
  {
   "cell_type": "markdown",
   "metadata": {},
   "source": [
    "# Syntax is strict\n",
    "```VAR = VALUE``` won't work because of the blanks around ="
   ]
  },
  {
   "cell_type": "markdown",
   "metadata": {},
   "source": [
    "# Strong quote\n",
    "\n",
    "'$VAR' will not try to interpret ```$VAR``` as variable\n",
    "\n",
    "* weak quotes allow parameter substitution, command substitution, artithmetric expression evaluation\n",
    "\n",
    "* use single quoate unless you nedd them"
   ]
  },
  {
   "cell_type": "markdown",
   "metadata": {},
   "source": [
    "# Special Characters\n",
    "|Character|Meaning|\n",
    "|---|---|\n",
    "|~|Home directory|\n",
    "|`|Command substitution|\n",
    "|#|Comment|\n",
    "|$|Varialbe expression|\n",
    "|&|Backgound job|\n",
    "|*|String wildcard or all filenames in the pwd|\n",
    "|(|Start subshell|\n",
    "|)|End subshell|\n",
    "|\\|quote next character|\n",
    "|&#124;|pipe|\n",
    "|[|Start character set wildcard|\n",
    "|]|End character set wildcard|\n",
    "|{|Start command block|\n",
    "|}|End command block|\n",
    "|;|shell command seperattion|\n",
    "|'|Strong quote|\n",
    "|\"|Weak quote|\n",
    "|<|input direct|\n",
    "|>|output direct|\n",
    "|/|pathname directory separator|\n",
    "|?|single character wild card|"
   ]
  },
  {
   "cell_type": "markdown",
   "metadata": {},
   "source": [
    "# Script arguments"
   ]
  },
  {
   "cell_type": "markdown",
   "metadata": {},
   "source": [
    "```$1``` , ```$2``` refer to the first, second etc. arguments. They are read-only within the script"
   ]
  },
  {
   "cell_type": "markdown",
   "metadata": {},
   "source": [
    "$0 refers to the name of the script itself"
   ]
  },
  {
   "cell_type": "markdown",
   "metadata": {},
   "source": [
    "Use ${nn} or ```shift``` to refer to arguments beyond 9"
   ]
  },
  {
   "cell_type": "markdown",
   "metadata": {},
   "source": [
    "* ```$#``` to coutn the amoutn of arguments provided\n",
    "* ```$@``` refer to all arguments provided\n",
    "* ```$*``` to get a single string that contains all arguments\n",
    "* use ```shift``` to remove the first arguemt (compatibale with older shells)"
   ]
  },
  {
   "cell_type": "markdown",
   "metadata": {},
   "source": [
    "# empty test\n",
    "\n",
    "Use ```-z``` to test whether an argument is empty"
   ]
  },
  {
   "cell_type": "markdown",
   "metadata": {},
   "source": [
    "# Command substitution\n",
    "\n",
    "Use the result of a commond in a script\n",
    "\n",
    "* `command`\n",
    "* $(command)  \n",
    "\n",
    "The second manner is preferred"
   ]
  },
  {
   "cell_type": "markdown",
   "metadata": {},
   "source": [
    "# Conditional Test\n",
    "\n",
    "```test -z $VAR``` to check if a string is empty\n",
    "\n",
    "```[ -z $VAR ] ``` to check if a string is empty\n",
    "\n",
    "```[[ ￥VAR=='some_pattern' ]]``` to check patterns"
   ]
  },
  {
   "cell_type": "markdown",
   "metadata": {},
   "source": [
    "# Here Documents"
   ]
  },
  {
   "cell_type": "markdown",
   "metadata": {},
   "source": [
    "```\n",
    "<<EndOfMessage\n",
    "line1\n",
    "line2\n",
    "EndOfMessage\n",
    "```\n",
    "\n",
    "to define several lines of string\n",
    "\n",
    "```\n",
    "<<EndOfSession\n",
    "command 1\n",
    "command 2\n",
    "EndOfSession\n",
    "```\n",
    "to pass several command into another shell"
   ]
  },
  {
   "cell_type": "markdown",
   "metadata": {},
   "source": [
    "# Substitution Operators"
   ]
  },
  {
   "cell_type": "markdown",
   "metadata": {
    "collapsed": true
   },
   "source": [
    "A substitution operator help you dealing with the value of variables easily.\n",
    "\n",
    "* Use default values for variables  \n",
    "When ```Var``` doesn't exist\n",
    "```${VAR:-default}``` return the default value while ```${VAR:=default}``` return the default value and set the variable at the same time.\n",
    "* Set substring of variables  \n",
    "```${VAR:offset:length}```\n",
    "* Return message and raise error if variable doesn't exist  \n",
    "```${VAR:?message}```, if message is ommited, a default message will be used."
   ]
  },
  {
   "cell_type": "markdown",
   "metadata": {},
   "source": [
    "# Pattern Match\n",
    "Pattern match is used to remove a pattern from a variable."
   ]
  },
  {
   "cell_type": "markdown",
   "metadata": {},
   "source": [
    "```${VAR#pattern} ``` Search pattern from the beginning, delete the shortest matching string and return the result.\n",
    "     \n",
    "```${VAR##pattern} ``` Search pattern from the beginning, delete the longest matching string and return the result.\n",
    "\n",
    "```${VAR%pattern} ``` Search pattern from the end, delete the shortest matching string and return the result.\n",
    "     \n",
    "```${VAR%%pattern} ``` Search pattern from the end, delete the longest matching string and return the result."
   ]
  },
  {
   "cell_type": "markdown",
   "metadata": {},
   "source": [
    "# Regular Expression\n",
    "Regular expression are not shell wildcards. Wher using regular expression, put them in strong quote so shell won't interpret them.\n",
    "\n",
    "Similiar with python.\n",
    "\n",
    "|Regular expression|Meaning|\n",
    "|---|---|\n",
    "|\\\\{n\\\\}|Match n times of previous character|\n",
    "|\\\\{m, n\\\\}|Match m to n times of previous character|\n",
    "|?|Match 0 to 1 times of previous character|"
   ]
  },
  {
   "cell_type": "markdown",
   "metadata": {},
   "source": [
    "# Calulation"
   ]
  },
  {
   "cell_type": "markdown",
   "metadata": {},
   "source": [
    "## Interal calulation\n",
    "$((1+1))\n",
    "\n",
    "## Exteral calulation\n",
    "* let  \n",
    "let x=\"$1 $2 $3\". In command, run the command with 1+100\n",
    "\n",
    "* bc  \n",
    "bc is a calulator with its own shell.\n",
    "\n",
    "* Use ```bc``` in non-interactive mode. ```\"scale=9;10/3\"|bc```\n",
    "* Or enter its shell by ```bc```\n",
    "\n"
   ]
  },
  {
   "cell_type": "markdown",
   "metadata": {},
   "source": [
    "# If construct\n",
    "\n",
    "```\n",
    "if expression\n",
    "then\n",
    "    command 1\n",
    "elif expression\n",
    "then\n",
    "    command 2\n",
    "else\n",
    "    command 3\n",
    "fi\n",
    "```\n",
    "\n",
    "```[ -d $VAR ]``` test whether VAR point to a directory\n",
    "\n",
    "```[ -f $VAR ]``` test whether VAR point to a file\n",
    "\n",
    "```[ -z $VAR ]``` test whether VAR is not provided\n",
    "\n",
    "\n",
    "```&&``` is logical AND\n",
    "* ```expression && command``` the command will be executed only when the expression is True\n",
    "* ```command1 && command2``` the command2 will be executed only when command1 return a exit code 0\n",
    "\n",
    "```||``` is logical OR\n",
    "* ```expression || command``` the command will be executed only when the expression is FALSE\n",
    "* ```command1 || command2``` the command2 will be executed only when command1 return not a exit code 0"
   ]
  },
  {
   "cell_type": "markdown",
   "metadata": {},
   "source": [
    "# for\n",
    "\n",
    "```\n",
    "for i in something\n",
    "do\n",
    "  command 1\n",
    "  command 2\n",
    "done\n",
    "```"
   ]
  },
  {
   "cell_type": "markdown",
   "metadata": {},
   "source": [
    "# common usage\n",
    "\n",
    "* ```ping -c 1 $ip```\n",
    "* ``` command 2>/dev/null``` to suppress the output, it doesn't change the exit code\n",
    "* ```sleep 1``` sleep for 1 seconds"
   ]
  },
  {
   "cell_type": "markdown",
   "metadata": {},
   "source": [
    "# Case\n",
    "```case $ VAR in\n",
    "    value1)\n",
    "    command 1;;\n",
    "    value2|value3)\n",
    "    command 2;;\n",
    "    *)\n",
    "    command 3;;\n",
    "esac    \n",
    "```"
   ]
  },
  {
   "cell_type": "markdown",
   "metadata": {},
   "source": [
    "# while and until\n",
    "* ```while``` is used to execute command as long as the condition is true\n",
    "\n",
    "```\n",
    "while condition\n",
    "do\n",
    "    command\n",
    "done\n",
    "\n",
    "```\n",
    "* ```until``` is used to execute command as long as the condition is false\n",
    "\n",
    "```\n",
    "until condition\n",
    "do\n",
    "    command\n",
    "done\n",
    "```\n"
   ]
  },
  {
   "cell_type": "markdown",
   "metadata": {},
   "source": [
    "# Options"
   ]
  },
  {
   "cell_type": "code",
   "execution_count": null,
   "metadata": {
    "collapsed": true
   },
   "outputs": [],
   "source": [
    "# functions\n",
    "\n",
    "```\n",
    "function help \n",
    "{\n",
    "    command\n",
    "}\n",
    "\n",
    "```\n",
    "\n",
    "```\n",
    "help ()\n",
    "{\n",
    "    command\n",
    "}\n",
    "```\n",
    "\n"
   ]
  },
  {
   "cell_type": "markdown",
   "metadata": {},
   "source": [
    "# Array\n",
    "Array is a string that can hold multiple values. In modern bash, a single variable can hold multiple variables but the amount of values can be hold is higher for array."
   ]
  },
  {
   "cell_type": "markdown",
   "metadata": {},
   "source": [
    "all values from array\n",
    "```${names[@]}```\n",
    "\n",
    "count values of an array\n",
    "```${#names[@]}```"
   ]
  }
 ],
 "metadata": {
  "kernelspec": {
   "display_name": "Python 3",
   "language": "python",
   "name": "python3"
  },
  "language_info": {
   "codemirror_mode": {
    "name": "ipython",
    "version": 3
   },
   "file_extension": ".py",
   "mimetype": "text/x-python",
   "name": "python",
   "nbconvert_exporter": "python",
   "pygments_lexer": "ipython3",
   "version": "3.5.2"
  },
  "toc": {
   "colors": {
    "hover_highlight": "#DAA520",
    "running_highlight": "#FF0000",
    "selected_highlight": "#FFD700"
   },
   "moveMenuLeft": true,
   "nav_menu": {
    "height": "142px",
    "width": "252px"
   },
   "navigate_menu": true,
   "number_sections": true,
   "sideBar": true,
   "threshold": 4,
   "toc_cell": false,
   "toc_section_display": "block",
   "toc_window_display": false
  }
 },
 "nbformat": 4,
 "nbformat_minor": 2
}
